{
 "cells": [
  {
   "cell_type": "markdown",
   "id": "df1cc5b8-a1b0-4251-bc9c-601867094e69",
   "metadata": {},
   "source": [
    "## Prediction on Wine Quality"
   ]
  },
  {
   "cell_type": "markdown",
   "id": "5af0a61c-d703-4574-87a8-7e26727228ba",
   "metadata": {},
   "source": [
    "Introduction: This project aims to predict the wine quality based on the wine features.\n",
    "\n",
    "Dataset: White Wine Quality from Kaggle\n",
    "\n",
    "Objectives:\n",
    "- Classify wines into target categories (good/poor)\n",
    "- Train with machine learning models: KNN, SVM, LDA\n",
    "- Tune the hyperparameters using cross-validation",
    "- Evaluate models with metrics: Accuracy, Precision, Recall, F1-Score\n",
    "- Compare their performance\n",
    "\n",
    "Skills:\n",
    "- Python: pandas, sklearn, matplotlib\n",
    "- Machine Learning: models' concepts, evaluation methods"
   ]
  },
  {
   "cell_type": "markdown",
   "id": "220ccd9c-b166-4e64-a27d-42bd8c98f1f1",
   "metadata": {},
   "source": [
    "## 1. Data Processing\n",
    "## Load the dataset."
   ]
  },
  {
   "cell_type": "code",
   "execution_count": 1,
   "id": "61802b36-bf24-471f-8140-0dc8c4385f84",
   "metadata": {},
   "outputs": [
    {
     "data": {
      "text/html": [
       "<div>\n",
       "<style scoped>\n",
       "    .dataframe tbody tr th:only-of-type {\n",
       "        vertical-align: middle;\n",
       "    }\n",
       "\n",
       "    .dataframe tbody tr th {\n",
       "        vertical-align: top;\n",
       "    }\n",
       "\n",
       "    .dataframe thead th {\n",
       "        text-align: right;\n",
       "    }\n",
       "</style>\n",
       "<table border=\"1\" class=\"dataframe\">\n",
       "  <thead>\n",
       "    <tr style=\"text-align: right;\">\n",
       "      <th></th>\n",
       "      <th>fixed acidity</th>\n",
       "      <th>volatile acidity</th>\n",
       "      <th>citric acid</th>\n",
       "      <th>residual sugar</th>\n",
       "      <th>chlorides</th>\n",
       "      <th>free sulfur dioxide</th>\n",
       "      <th>total sulfur dioxide</th>\n",
       "      <th>density</th>\n",
       "      <th>pH</th>\n",
       "      <th>sulphates</th>\n",
       "      <th>alcohol</th>\n",
       "      <th>quality</th>\n",
       "    </tr>\n",
       "  </thead>\n",
       "  <tbody>\n",
       "    <tr>\n",
       "      <th>0</th>\n",
       "      <td>7.0</td>\n",
       "      <td>0.27</td>\n",
       "      <td>0.36</td>\n",
       "      <td>20.7</td>\n",
       "      <td>0.045</td>\n",
       "      <td>45.0</td>\n",
       "      <td>170.0</td>\n",
       "      <td>1.0010</td>\n",
       "      <td>3.00</td>\n",
       "      <td>0.45</td>\n",
       "      <td>8.8</td>\n",
       "      <td>6</td>\n",
       "    </tr>\n",
       "    <tr>\n",
       "      <th>1</th>\n",
       "      <td>6.3</td>\n",
       "      <td>0.30</td>\n",
       "      <td>0.34</td>\n",
       "      <td>1.6</td>\n",
       "      <td>0.049</td>\n",
       "      <td>14.0</td>\n",
       "      <td>132.0</td>\n",
       "      <td>0.9940</td>\n",
       "      <td>3.30</td>\n",
       "      <td>0.49</td>\n",
       "      <td>9.5</td>\n",
       "      <td>6</td>\n",
       "    </tr>\n",
       "    <tr>\n",
       "      <th>2</th>\n",
       "      <td>8.1</td>\n",
       "      <td>0.28</td>\n",
       "      <td>0.40</td>\n",
       "      <td>6.9</td>\n",
       "      <td>0.050</td>\n",
       "      <td>30.0</td>\n",
       "      <td>97.0</td>\n",
       "      <td>0.9951</td>\n",
       "      <td>3.26</td>\n",
       "      <td>0.44</td>\n",
       "      <td>10.1</td>\n",
       "      <td>6</td>\n",
       "    </tr>\n",
       "    <tr>\n",
       "      <th>3</th>\n",
       "      <td>7.2</td>\n",
       "      <td>0.23</td>\n",
       "      <td>0.32</td>\n",
       "      <td>8.5</td>\n",
       "      <td>0.058</td>\n",
       "      <td>47.0</td>\n",
       "      <td>186.0</td>\n",
       "      <td>0.9956</td>\n",
       "      <td>3.19</td>\n",
       "      <td>0.40</td>\n",
       "      <td>9.9</td>\n",
       "      <td>6</td>\n",
       "    </tr>\n",
       "    <tr>\n",
       "      <th>4</th>\n",
       "      <td>7.2</td>\n",
       "      <td>0.23</td>\n",
       "      <td>0.32</td>\n",
       "      <td>8.5</td>\n",
       "      <td>0.058</td>\n",
       "      <td>47.0</td>\n",
       "      <td>186.0</td>\n",
       "      <td>0.9956</td>\n",
       "      <td>3.19</td>\n",
       "      <td>0.40</td>\n",
       "      <td>9.9</td>\n",
       "      <td>6</td>\n",
       "    </tr>\n",
       "  </tbody>\n",
       "</table>\n",
       "</div>"
      ],
      "text/plain": [
       "   fixed acidity  volatile acidity  citric acid  residual sugar  chlorides  \\\n",
       "0            7.0              0.27         0.36            20.7      0.045   \n",
       "1            6.3              0.30         0.34             1.6      0.049   \n",
       "2            8.1              0.28         0.40             6.9      0.050   \n",
       "3            7.2              0.23         0.32             8.5      0.058   \n",
       "4            7.2              0.23         0.32             8.5      0.058   \n",
       "\n",
       "   free sulfur dioxide  total sulfur dioxide  density    pH  sulphates  \\\n",
       "0                 45.0                 170.0   1.0010  3.00       0.45   \n",
       "1                 14.0                 132.0   0.9940  3.30       0.49   \n",
       "2                 30.0                  97.0   0.9951  3.26       0.44   \n",
       "3                 47.0                 186.0   0.9956  3.19       0.40   \n",
       "4                 47.0                 186.0   0.9956  3.19       0.40   \n",
       "\n",
       "   alcohol  quality  \n",
       "0      8.8        6  \n",
       "1      9.5        6  \n",
       "2     10.1        6  \n",
       "3      9.9        6  \n",
       "4      9.9        6  "
      ]
     },
     "execution_count": 1,
     "metadata": {},
     "output_type": "execute_result"
    }
   ],
   "source": [
    "# Import the dataset\n",
    "\n",
    "import pandas as pd\n",
    "df = pd.read_csv('winequality-white.csv', sep = ';')\n",
    "df.head()"
   ]
  },
  {
   "cell_type": "markdown",
   "id": "c0be985c-5a42-4648-9ff2-fe321e3a401a",
   "metadata": {},
   "source": [
    "## Handle any missing values (if present)."
   ]
  },
  {
   "cell_type": "code",
   "execution_count": 2,
   "id": "3885c52f-08fe-4f59-b26c-890a89ff1c4e",
   "metadata": {},
   "outputs": [
    {
     "name": "stdout",
     "output_type": "stream",
     "text": [
      "Number of missing values of each column: \n"
     ]
    },
    {
     "data": {
      "text/plain": [
       "fixed acidity           0\n",
       "volatile acidity        0\n",
       "citric acid             0\n",
       "residual sugar          0\n",
       "chlorides               0\n",
       "free sulfur dioxide     0\n",
       "total sulfur dioxide    0\n",
       "density                 0\n",
       "pH                      0\n",
       "sulphates               0\n",
       "alcohol                 0\n",
       "quality                 0\n",
       "dtype: int64"
      ]
     },
     "execution_count": 2,
     "metadata": {},
     "output_type": "execute_result"
    }
   ],
   "source": [
    "# Check any missing value by each column\n",
    "\n",
    "print('Number of missing values of each column: ')\n",
    "df.isnull().sum()"
   ]
  },
  {
   "cell_type": "code",
   "execution_count": 3,
   "id": "a1b2b143-5baa-4560-bdcb-c5e9d7bb72e8",
   "metadata": {},
   "outputs": [
    {
     "name": "stdout",
     "output_type": "stream",
     "text": [
      "Number of missing values in total: \n"
     ]
    },
    {
     "data": {
      "text/plain": [
       "0"
      ]
     },
     "execution_count": 3,
     "metadata": {},
     "output_type": "execute_result"
    }
   ],
   "source": [
    "# Confirm no missing value in total\n",
    "\n",
    "print('Number of missing values in total: ')\n",
    "df.isnull().sum().sum()"
   ]
  },
  {
   "cell_type": "code",
   "execution_count": 4,
   "id": "e4eee450-62db-44e2-9fbb-112741e124a0",
   "metadata": {},
   "outputs": [],
   "source": [
    "# Separate data set into features and target\n",
    "\n",
    "X = df.drop(columns = ['quality'])    # feature columns are all columns except quality\n",
    "y = df['quality']    # target column is quality"
   ]
  },
  {
   "cell_type": "markdown",
   "id": "17be00c7-03ed-49cc-84df-304b6d719682",
   "metadata": {},
   "source": [
    "## Convert the target variable into a binary classification problem where: \n",
    "## Quality 6 and above is labelled as 1 (good quality). Quality below 6 is labelled as 0 (poor quality)."
   ]
  },
  {
   "cell_type": "code",
   "execution_count": 5,
   "id": "becb136f-009c-4482-92b3-109c2f3d88ee",
   "metadata": {},
   "outputs": [
    {
     "data": {
      "text/plain": [
       "0     6\n",
       "1     6\n",
       "2     6\n",
       "3     6\n",
       "4     6\n",
       "5     6\n",
       "6     6\n",
       "7     6\n",
       "8     6\n",
       "9     6\n",
       "10    5\n",
       "11    5\n",
       "12    5\n",
       "13    7\n",
       "14    5\n",
       "15    7\n",
       "16    6\n",
       "17    8\n",
       "18    6\n",
       "19    5\n",
       "Name: quality, dtype: int64"
      ]
     },
     "execution_count": 5,
     "metadata": {},
     "output_type": "execute_result"
    }
   ],
   "source": [
    "# Display the quality column\n",
    "\n",
    "y.head(20)"
   ]
  },
  {
   "cell_type": "code",
   "execution_count": 6,
   "id": "3cd0a822-005a-40d1-b614-aded3b8da629",
   "metadata": {},
   "outputs": [
    {
     "data": {
      "text/plain": [
       "0     1\n",
       "1     1\n",
       "2     1\n",
       "3     1\n",
       "4     1\n",
       "5     1\n",
       "6     1\n",
       "7     1\n",
       "8     1\n",
       "9     1\n",
       "10    0\n",
       "11    0\n",
       "12    0\n",
       "13    1\n",
       "14    0\n",
       "15    1\n",
       "16    1\n",
       "17    1\n",
       "18    1\n",
       "19    0\n",
       "Name: quality, dtype: int64"
      ]
     },
     "execution_count": 6,
     "metadata": {},
     "output_type": "execute_result"
    }
   ],
   "source": [
    "# Convert quality column's value to be 0 if it is <6 and to be 1 if it is >=6\n",
    "\n",
    "y = y.apply(lambda x: 1 if x >= 6 else 0)\n",
    "y.head(20)"
   ]
  },
  {
   "cell_type": "markdown",
   "id": "9567b0fe-8266-4a6f-b9e2-1f431de3e969",
   "metadata": {},
   "source": [
    "## 2. Train-Test Split:\n",
    "## Split the dataset into 70% training and 30% testing subsets, and normalise the feature columns."
   ]
  },
  {
   "cell_type": "code",
   "execution_count": 7,
   "id": "63d45472-a555-4794-a5f0-b0767baa27e7",
   "metadata": {},
   "outputs": [
    {
     "data": {
      "text/plain": [
       "(4898, 12)"
      ]
     },
     "execution_count": 7,
     "metadata": {},
     "output_type": "execute_result"
    }
   ],
   "source": [
    "# Check the dataset original size\n",
    "\n",
    "df.shape"
   ]
  },
  {
   "cell_type": "code",
   "execution_count": 8,
   "id": "448773ee-a89a-4b72-99c6-1cb6ce2f1ba1",
   "metadata": {},
   "outputs": [],
   "source": [
    "# Split 70% of data to be training set and 30% to be testing set\n",
    "\n",
    "from sklearn.model_selection import train_test_split\n",
    "X_train, X_test, y_train, y_test = train_test_split(X, y, train_size = 0.7, random_state = 42, stratify = y, shuffle = True)"
   ]
  },
  {
   "cell_type": "code",
   "execution_count": 9,
   "id": "cea7d884-1a1b-41d8-8000-8537c4f502ad",
   "metadata": {},
   "outputs": [
    {
     "name": "stdout",
     "output_type": "stream",
     "text": [
      "X_train: (3428, 11)\n",
      "[[0.30769231 0.16666667 0.3373494  ... 0.46363636 0.36046512 0.48387097]\n",
      " [0.27884615 0.15686275 0.19277108 ... 0.56363636 0.15116279 0.74193548]\n",
      " [0.19230769 0.04901961 0.13253012 ... 0.54545455 0.23255814 0.59677419]\n",
      " ...\n",
      " [0.14423077 0.2254902  0.22891566 ... 0.56363636 0.27906977 0.59677419]\n",
      " [0.27884615 0.12745098 0.19277108 ... 0.60909091 0.27906977 0.27419355]\n",
      " [0.25       0.19607843 0.10240964 ... 0.45454545 0.27906977 0.22580645]]\n",
      "X_test: (1470, 11)\n",
      "[[0.36538462 0.21568627 0.22891566 ... 0.40909091 0.5        0.48387097]\n",
      " [0.22115385 0.19607843 0.1626506  ... 0.4        0.23255814 0.72580645]\n",
      " [0.46153846 0.11764706 0.25301205 ... 0.35454545 0.31395349 0.5483871 ]\n",
      " ...\n",
      " [0.08653846 0.06372549 0.1746988  ... 0.94545455 0.31395349 0.53225806]\n",
      " [0.24038462 0.11764706 0.15662651 ... 0.73636364 0.39534884 0.4516129 ]\n",
      " [0.26923077 0.30392157 0.22891566 ... 0.52727273 0.40697674 0.22580645]]\n",
      "y_train: (3428,)\n",
      "2010    1\n",
      "3850    1\n",
      "4519    1\n",
      "1031    1\n",
      "1960    0\n",
      "       ..\n",
      "2307    0\n",
      "798     1\n",
      "4732    1\n",
      "388     1\n",
      "2430    0\n",
      "Name: quality, Length: 3428, dtype: int64\n",
      "y_test: (1470,)\n",
      "3127    0\n",
      "3378    1\n",
      "1020    1\n",
      "4604    1\n",
      "2198    0\n",
      "       ..\n",
      "2166    0\n",
      "2667    1\n",
      "4470    1\n",
      "2453    1\n",
      "3599    1\n",
      "Name: quality, Length: 1470, dtype: int64\n"
     ]
    }
   ],
   "source": [
    "# Normalize the feature columns by min max scaling\n",
    "\n",
    "from sklearn.preprocessing import MinMaxScaler\n",
    "scaler = MinMaxScaler()\n",
    "X_train = scaler.fit_transform(X_train)\n",
    "X_test = scaler.transform(X_test)\n",
    "\n",
    "print(f'X_train: {X_train.shape}')\n",
    "print(X_train)\n",
    "print(f'X_test: {X_test.shape}')\n",
    "print(X_test)\n",
    "print(f'y_train: {y_train.shape}')\n",
    "print(y_train)\n",
    "print(f'y_test: {y_test.shape}')\n",
    "print(y_test)\n",
    "\n",
    "# Sum the row number of train & test sets are equal to the row number of original data set\n",
    "# And checked training set row number is 70% of the original one"
   ]
  },
  {
   "cell_type": "markdown",
   "id": "d43f1880-eb63-4dea-bfea-f43544cda832",
   "metadata": {},
   "source": [
    "## 3.Model Implementation:\n",
    "## Train three models: k-Nearest Neighbours (k-NN), Support Vector Machine(SVM), and Linear Discriminant Analysis (LDA) using the training dataset."
   ]
  },
  {
   "cell_type": "code",
   "execution_count": 10,
   "id": "0a863268-4c30-4b3f-afc6-e3364f9a28e3",
   "metadata": {},
   "outputs": [],
   "source": [
    "# Train with knn model which k value = 3\n",
    "\n",
    "from sklearn.neighbors import KNeighborsClassifier\n",
    "knn = KNeighborsClassifier(n_neighbors = 3)\n",
    "knn.fit(X_train, y_train)\n",
    "\n",
    "# Find the prediction result\n",
    "\n",
    "y_pred_knn = knn.predict(X_test)"
   ]
  },
  {
   "cell_type": "code",
   "execution_count": 11,
   "id": "ad7b3bfd-be78-4813-9afd-96014c0279e2",
   "metadata": {},
   "outputs": [],
   "source": [
    "# Train with svm model which default kernel is rbf\n",
    "\n",
    "from sklearn.svm import SVC\n",
    "svm = SVC() \n",
    "svm.fit(X_train, y_train)\n",
    "\n",
    "# Find the prediction result\n",
    "\n",
    "y_pred_svm = svm.predict(X_test)"
   ]
  },
  {
   "cell_type": "code",
   "execution_count": 12,
   "id": "7e796234-677f-4eda-91bb-b27dc0e5acbb",
   "metadata": {},
   "outputs": [],
   "source": [
    "# Train with lda model\n",
    "\n",
    "from sklearn.discriminant_analysis import LinearDiscriminantAnalysis\n",
    "lda = LinearDiscriminantAnalysis(shrinkage = None) \n",
    "lda.fit(X_train, y_train)\n",
    "\n",
    "# Find the prediction result\n",
    "\n",
    "y_pred_lda = lda.predict(X_test)"
   ]
  },
  {
   "cell_type": "markdown",
   "id": "4ce78cd3-b184-4e26-8f1e-fe23e06c9fe7",
   "metadata": {},
   "source": [
    "## Tune the hyperparameters:\n",
    "## For k-NN: Select the optimal number of neighbours (k) using cross-validation."
   ]
  },
  {
   "cell_type": "code",
   "execution_count": 13,
   "id": "1ce8c067-db39-4b3f-a8ee-b1afd0ca6706",
   "metadata": {},
   "outputs": [],
   "source": [
    "# Loop to find the best value for k using cross validation\n",
    "\n",
    "from sklearn.model_selection import cross_val_score\n",
    "import numpy as np\n",
    "\n",
    "k_values = [i for i in range (1,31)]\n",
    "scores_knn = []\n",
    "for k in k_values:\n",
    "    knn_cv = KNeighborsClassifier(n_neighbors = k)\n",
    "    score_knn = cross_val_score(knn_cv, X_train, y_train, cv = 5)\n",
    "    scores_knn.append(np.mean(score_knn))"
   ]
  },
  {
   "cell_type": "code",
   "execution_count": 14,
   "id": "8f119c3f-ae54-496b-914f-fe64a432e702",
   "metadata": {},
   "outputs": [
    {
     "data": {
      "image/png": "[encoded data removed]",
      "text/plain": [
       "<Figure size 640x480 with 1 Axes>"
      ]
     },
     "metadata": {},
     "output_type": "display_data"
    }
   ],
   "source": [
    "# Plot the graph to see k value with cross validation score\n",
    "\n",
    "import matplotlib.pyplot as plt\n",
    "plt.plot(k_values, scores_knn, marker = 'o')\n",
    "plt.xlabel('k values')\n",
    "plt.ylabel('scores')\n",
    "plt.show()"
   ]
  },
  {
   "cell_type": "code",
   "execution_count": 15,
   "id": "f8e05f21-78f9-4814-8b51-213b75deb0c3",
   "metadata": {},
   "outputs": [
    {
     "name": "stdout",
     "output_type": "stream",
     "text": [
      "5\n"
     ]
    }
   ],
   "source": [
    "# From the graph we can see k = 1 with the highest score, but it is probably overfitting\n",
    "\n",
    "best_index = np.argmax(scores_knn[1:]) + 1   # Skip index 0 which is k=1\n",
    "best_k = k_values[best_index]\n",
    "print(best_k)"
   ]
  },
  {
   "cell_type": "code",
   "execution_count": 16,
   "id": "902450eb-bc94-4c5e-b3ef-bc851cd383c5",
   "metadata": {},
   "outputs": [],
   "source": [
    "# Train again with the best k\n",
    "\n",
    "knn = KNeighborsClassifier(n_neighbors = best_k)\n",
    "knn.fit(X_train, y_train)\n",
    "\n",
    "# Find the prediction result\n",
    "\n",
    "y_pred_knn = knn.predict(X_test)"
   ]
  },
  {
   "cell_type": "markdown",
   "id": "53120b94-bf3b-4287-b64c-03eca15d636a",
   "metadata": {},
   "source": [
    "## For SVM: Experiment with different kernel functions (linear, polynomial, RBF) and select the best kernel using cross-validation."
   ]
  },
  {
   "cell_type": "code",
   "execution_count": 17,
   "id": "348f5fc1-0d76-4cc7-aa27-58af9cfffc1d",
   "metadata": {},
   "outputs": [
    {
     "name": "stdout",
     "output_type": "stream",
     "text": [
      "Mean Scores of Linear: 0.7540797173926922\n"
     ]
    }
   ],
   "source": [
    "# Use cross validation for linear function to find the mean score\n",
    "\n",
    "svm_linear = SVC(kernel = 'linear')\n",
    "scores_svm_linear = cross_val_score(svm_linear, X_train, y_train, cv = 5)\n",
    "print('Mean Scores of Linear:', np.mean(scores_svm_linear))"
   ]
  },
  {
   "cell_type": "code",
   "execution_count": 18,
   "id": "aa00a681-52b5-4e34-8664-e60a1ae05ccf",
   "metadata": {
    "editable": true,
    "slideshow": {
     "slide_type": ""
    },
    "tags": []
   },
   "outputs": [
    {
     "name": "stdout",
     "output_type": "stream",
     "text": [
      "Mean Scores of Poly: 0.7742086782575386\n"
     ]
    }
   ],
   "source": [
    "# Use cross validation for polynomial function to find the mean score\n",
    "\n",
    "svm_poly = SVC(kernel = 'poly')\n",
    "scores_svm_poly = cross_val_score(svm_poly, X_train, y_train, cv = 5)\n",
    "print('Mean Scores of Poly:', np.mean(scores_svm_poly))"
   ]
  },
  {
   "cell_type": "code",
   "execution_count": 19,
   "id": "055dafcf-40a3-4159-9512-943fec71cd6f",
   "metadata": {},
   "outputs": [
    {
     "name": "stdout",
     "output_type": "stream",
     "text": [
      "Mean Scores of RBF: 0.7744989466067971\n"
     ]
    }
   ],
   "source": [
    "# Use cross validation for RBF function to find the mean score\n",
    "\n",
    "svm_rbf = SVC(kernel = 'rbf')\n",
    "scores_svm_rbf = cross_val_score(svm_rbf, X_train, y_train, cv = 5)\n",
    "print('Mean Scores of RBF:', np.mean(scores_svm_rbf))"
   ]
  },
  {
   "cell_type": "code",
   "execution_count": 20,
   "id": "bb478827-e8e9-409f-84f2-feb7c9ef6418",
   "metadata": {},
   "outputs": [],
   "source": [
    "# Comparing the mean cross validation scores, RBF is the best kernel\n",
    "# Train again with the best kernel: RBF\n",
    "\n",
    "from sklearn.svm import SVC\n",
    "svm = SVC(kernel = 'rbf') \n",
    "svm.fit(X_train, y_train)\n",
    "y_pred_svm = svm.predict(X_test)"
   ]
  },
  {
   "cell_type": "markdown",
   "id": "106620e6-6696-4921-b7ee-0fd09347f40a",
   "metadata": {},
   "source": [
    "## 4. Evaluation:\n",
    "## Evaluate all models on the test set using the following metrics: Accuracy, Precision, Recall, F1-Score. Generate and display a confusion matrix for each model."
   ]
  },
  {
   "cell_type": "code",
   "execution_count": 21,
   "id": "8439132b-a427-4e11-b347-f850bbe0cfcf",
   "metadata": {},
   "outputs": [
    {
     "name": "stdout",
     "output_type": "stream",
     "text": [
      "KNN Evaluation:\n",
      "Accuracy: 0.7625850340136054\n",
      "Precision: 0.8080313418217434\n",
      "Recall: 0.843558282208589\n",
      "F1-Score: 0.8254127063531765\n"
     ]
    }
   ],
   "source": [
    "# Evaluate for knn\n",
    "\n",
    "from sklearn import metrics\n",
    "\n",
    "accuracy_knn = metrics.accuracy_score(y_test, y_pred_knn)\n",
    "precision_knn = metrics.precision_score(y_test, y_pred_knn)\n",
    "recall_knn = metrics.recall_score(y_test, y_pred_knn)\n",
    "f1_knn = metrics.f1_score(y_test, y_pred_knn)\n",
    "\n",
    "print('KNN Evaluation:')\n",
    "print('Accuracy:', accuracy_knn)\n",
    "print('Precision:', precision_knn)\n",
    "print('Recall:', recall_knn)\n",
    "print('F1-Score:', f1_knn)"
   ]
  },
  {
   "cell_type": "code",
   "execution_count": 22,
   "id": "b648b3cf-5599-470d-b1e5-4aeae2b710d8",
   "metadata": {},
   "outputs": [
    {
     "data": {
      "image/png": "[encoded data removed]",
      "text/plain": [
       "<Figure size 640x480 with 2 Axes>"
      ]
     },
     "metadata": {},
     "output_type": "display_data"
    }
   ],
   "source": [
    "# Generate and display confusion matrix for knn\n",
    "\n",
    "cm_knn = metrics.confusion_matrix(y_test, y_pred_knn)\n",
    "cm_knn_display = metrics.ConfusionMatrixDisplay(confusion_matrix = cm_knn, display_labels = ['poor', 'good'])\n",
    "cm_knn_display.plot()\n",
    "plt.title('Confusion Matrix for KNN')\n",
    "plt.show()"
   ]
  },
  {
   "cell_type": "code",
   "execution_count": 23,
   "id": "9e329b1f-d4a4-464f-ad9b-25d899b42683",
   "metadata": {},
   "outputs": [
    {
     "name": "stdout",
     "output_type": "stream",
     "text": [
      "SVM Evaluation:\n",
      "Accuracy: 0.7537414965986394\n",
      "Precision: 0.78\n",
      "Recall: 0.8773006134969326\n",
      "F1-Score: 0.8257940327237728\n"
     ]
    }
   ],
   "source": [
    "# Evaluate for svm\n",
    "\n",
    "accuracy_svm = metrics.accuracy_score(y_test, y_pred_svm)\n",
    "precision_svm = metrics.precision_score(y_test, y_pred_svm)\n",
    "recall_svm = metrics.recall_score(y_test, y_pred_svm)\n",
    "f1_svm = metrics.f1_score(y_test, y_pred_svm)\n",
    "\n",
    "print('SVM Evaluation:')\n",
    "print('Accuracy:', accuracy_svm)\n",
    "print('Precision:', precision_svm)\n",
    "print('Recall:', recall_svm)\n",
    "print('F1-Score:', f1_svm)"
   ]
  },
  {
   "cell_type": "code",
   "execution_count": 24,
   "id": "32a9237c-6d33-4424-b7d6-6c3b7d50f5d9",
   "metadata": {},
   "outputs": [
    {
     "data": {
      "image/png": "[encoded data removed]",
      "text/plain": [
       "<Figure size 640x480 with 2 Axes>"
      ]
     },
     "metadata": {},
     "output_type": "display_data"
    }
   ],
   "source": [
    "# Generate and display confusion matrix for svm\n",
    "\n",
    "cm_svm = metrics.confusion_matrix(y_test, y_pred_svm)\n",
    "cm_svm_display = metrics.ConfusionMatrixDisplay(confusion_matrix = cm_svm, display_labels = ['poor', 'good'])\n",
    "cm_svm_display.plot()\n",
    "plt.title('Confusion Matrix for SVM')\n",
    "plt.show()"
   ]
  },
  {
   "cell_type": "code",
   "execution_count": 25,
   "id": "f1cfe0d5-1dca-44e2-9b2e-7a9f213fe434",
   "metadata": {},
   "outputs": [
    {
     "name": "stdout",
     "output_type": "stream",
     "text": [
      "LDA Evaluation:\n",
      "Accuracy: 0.7333333333333333\n",
      "Precision: 0.7602131438721137\n",
      "Recall: 0.8752556237218814\n",
      "F1-Score: 0.8136882129277566\n"
     ]
    }
   ],
   "source": [
    "# Evaluate for lda\n",
    "\n",
    "accuracy_lda = metrics.accuracy_score(y_test, y_pred_lda)\n",
    "precision_lda = metrics.precision_score(y_test, y_pred_lda)\n",
    "recall_lda = metrics.recall_score(y_test, y_pred_lda)\n",
    "f1_lda = metrics.f1_score(y_test, y_pred_lda)\n",
    "\n",
    "print('LDA Evaluation:')\n",
    "print('Accuracy:', accuracy_lda)\n",
    "print('Precision:', precision_lda)\n",
    "print('Recall:', recall_lda)\n",
    "print('F1-Score:', f1_lda)"
   ]
  },
  {
   "cell_type": "code",
   "execution_count": 26,
   "id": "822a6405-0fb6-42bd-a8dc-e07cc66030bb",
   "metadata": {},
   "outputs": [
    {
     "data": {
      "image/png": "[encoded data removed]",
      "text/plain": [
       "<Figure size 640x480 with 2 Axes>"
      ]
     },
     "metadata": {},
     "output_type": "display_data"
    }
   ],
   "source": [
    "# Generate and display confusion matrix for lda\n",
    "\n",
    "cm_lda = metrics.confusion_matrix(y_test, y_pred_lda)\n",
    "cm_lda_display = metrics.ConfusionMatrixDisplay(confusion_matrix = cm_lda, display_labels = ['poor', 'good'])\n",
    "cm_lda_display.plot()\n",
    "plt.title('Confusion Matrix for LDA')\n",
    "plt.show()"
   ]
  },
  {
   "cell_type": "markdown",
   "id": "82d04561-2a8c-49c7-be0f-8d98bc0320e7",
   "metadata": {},
   "source": [
    "## 5. Analysis:\n",
    "## Compare the performance of the three models based on the evaluation metrics. Discuss the strengths and weaknesses of each model in the context of the dataset."
   ]
  },
  {
   "cell_type": "markdown",
   "id": "623f3849-112b-40b2-8924-ce704c168cc8",
   "metadata": {},
   "source": [
    "For KNN:\n",
    "\n",
    "- The accuracy is similar to SVM\n",
    "- It has the highest precision which has less FP. It implies less poor wine is classified as good wine\n",
    "- At the same time, it has the lowest recall which has more FN. It means more good wine is classified as poor\n",
    "- F1-score is lower than SVM\n",
    "\n",
    "Strength:\n",
    "\n",
    "- With high precision, KNN is a good model to make sure those defined as good quality wine is actually good\n",
    "\n",
    "Weakness:\n",
    "\n",
    "- It is less efficient when the dataset is not small since it needs to scan through the entire data spcae for comparing all data points"
   ]
  },
  {
   "cell_type": "markdown",
   "id": "339cab24-11d3-42a0-8132-6c72a2abcb3f",
   "metadata": {},
   "source": [
    "For SVM:\n",
    "\n",
    "- The accuracy is similar to KNN\n",
    "- It has high recall which has less FN which have less good wine is classified as poor\n",
    "- On the other hand, it has lower precision with more FP so that more poor wine is classified as good wine\n",
    "- The F1-score is the highest which means it has the greatest balance on precision and recall\n",
    "\n",
    "Strength:\n",
    "\n",
    "- Performance is generally good since it can keep good balance between precision and recall\n",
    "- It also works well with high dimensionality\n",
    "\n",
    "Weakness:\n",
    "\n",
    "- The training time of SVM is relatively longer when dataset is large or kernel is complex"
   ]
  },
  {
   "cell_type": "markdown",
   "id": "1f303417-6c50-4391-a692-1cef5e8bec13",
   "metadata": {},
   "source": [
    "For LDA:\n",
    "\n",
    "- The accuracy, precision and F1-score are the lowest\n",
    "- Only recall is higher which has the least FN\n",
    "\n",
    "Strength:\n",
    "\n",
    "- It is relatively faster than the other 2 models\n",
    "\n",
    "Weakness:\n",
    "\n",
    "- It does not perform well when dataset is complex. Since this dataset is non-linear separable, LDA is not the best model"
   ]
  },
  {
   "cell_type": "markdown",
   "id": "63eacb64-095a-4b13-85cf-137bdf6ba229",
   "metadata": {},
   "source": [
    "In conclusion, SVM is the most suitable model for this dataset because of the highest F1-score, which has the best trade-off between accuracy and robustness."
   ]
  }
 ],
 "metadata": {
  "kernelspec": {
   "display_name": "Python [conda env:base] *",
   "language": "python",
   "name": "conda-base-py"
  },
  "language_info": {
   "codemirror_mode": {
    "name": "ipython",
    "version": 3
   },
   "file_extension": ".py",
   "mimetype": "text/x-python",
   "name": "python",
   "nbconvert_exporter": "python",
   "pygments_lexer": "ipython3",
   "version": "3.12.7"
  }
 },
 "nbformat": 4,
 "nbformat_minor": 5
}
